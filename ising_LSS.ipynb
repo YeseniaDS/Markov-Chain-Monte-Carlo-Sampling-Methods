{
 "cells": [
  {
   "cell_type": "code",
   "execution_count": 18,
   "metadata": {},
   "outputs": [
    {
     "name": "stdout",
     "output_type": "stream",
     "text": [
      "31\n",
      "(25, 25)\n"
     ]
    }
   ],
   "source": [
    "import numpy as np\n",
    "import matplotlib.pyplot as plt\n",
    "\n",
    "# fix random seed\n",
    "np.random.seed(123)\n",
    "\n",
    "# set the size of the model N x N and initial spins\n",
    "N = 25\n",
    "spins_initial = np.random.choice([-1,1], (N,N))\n",
    "print(spins_initial.sum())\n",
    "print(spins_initial.shape)\n",
    "\n",
    "# fix time-steps\n",
    "time_steps = 2000"
   ]
  },
  {
   "cell_type": "code",
   "execution_count": 19,
   "metadata": {},
   "outputs": [],
   "source": [
    "# Initialize interaction arrays: there are four arrays - up, down, left, right neighbours of a site\n",
    "up, down, left, right = np.zeros((N, N)), np.zeros((N, N)), np.zeros((N, N)), np.zeros((N, N))\n",
    "\n",
    "# Use J = 1 so graphs are easier to generate\n",
    "up[1:N, :] = 1\n",
    "down[0:N-1, :] = up[1:N, :]\n",
    "left[:, 1:N] = 1\n",
    "right[:, 0:N-1] = left[:, 1:N]"
   ]
  },
  {
   "cell_type": "code",
   "execution_count": 20,
   "metadata": {},
   "outputs": [],
   "source": [
    "# create function to find neighbor sites\n",
    "def nbr_udlr(s_site, s_array):\n",
    "    n = s_array.shape[0]\n",
    "    i = s_site[0]\n",
    "    j = s_site[1]\n",
    "    \n",
    "    if i == 0:\n",
    "        up_site = 0\n",
    "        down_site = [i+1,j]\n",
    "    elif i == n-1:\n",
    "        up_site = [i-1, j]\n",
    "        down_site = 0\n",
    "    else: \n",
    "        up_site = [i-1, j]\n",
    "        down_site = [i+1, j]\n",
    "    \n",
    "    if j == 0:\n",
    "        left_site = 0\n",
    "        right_site = [i, j+1]\n",
    "    elif j == n-1:\n",
    "        left_site = [i, j-1]\n",
    "        right_site = 0\n",
    "    else:\n",
    "        left_site = [i, j-1]\n",
    "        right_site = [i, j+1]\n",
    "        \n",
    "    return [up_site, down_site, left_site, right_site]\n",
    "\n",
    "# create function to return interaction strength\n",
    "def  int_strength(s_site, udlr, up_array, down_array, left_array, right_array):\n",
    "    if udlr == 0:\n",
    "        return up_array[s_site[0], s_site[1]]\n",
    "    if udlr == 1:\n",
    "        return down_array[s_site[0], s_site[1]]\n",
    "    if udlr == 2:\n",
    "        return left_array[s_site[0], s_site[1]]\n",
    "    if udlr == 3:\n",
    "        return right_array[s_site[0], s_site[1]]\n",
    "\n",
    "def energy_calc(s_array, up_array, down_array, left_array, right_array):\n",
    "    _N = s_array.shape[0]\n",
    "    energy = 0\n",
    "\n",
    "    # find all the values of the neighbors\n",
    "    for i in range(_N):\n",
    "        for j in range(_N):\n",
    "            if i == 0:\n",
    "                up_nbr = 0\n",
    "                down_nbr = s_array[i+1,j]\n",
    "            elif i == N-1:\n",
    "                up_nbr = s_array[i-1,j]\n",
    "                down_nbr = 0\n",
    "            else:\n",
    "                up_nbr = s_array[i-1,j]\n",
    "                down_nbr = s_array[i+1,j]\n",
    "            if j == 0:\n",
    "                left_nbr = 0\n",
    "                right_nbr = s_array[i,j+1]\n",
    "            elif j == N-1:\n",
    "                left_nbr = s_array[i,j-1]\n",
    "                right_nbr = 0\n",
    "            else:\n",
    "                left_nbr = s_array[i,j-1]\n",
    "                right_nbr = s_array[i,j+1]\n",
    "        \n",
    "            energy += s_array[i,j]*(up_array[i,j]*up_nbr + down_array[i,j]*down_nbr + left_array[i,j]*left_nbr + right_array[i,j]*right_nbr)\n",
    "    return -energy/2 # each site is calculated twice"
   ]
  },
  {
   "cell_type": "code",
   "execution_count": 21,
   "metadata": {},
   "outputs": [],
   "source": [
    "Energy_LSS = np.zeros(time_steps)\n",
    "def latent_slice_sampler(bt, ts, s_array, up_array, down_array, left_array, right_array):\n",
    "  \n",
    "  lv = np.zeros(N**2) # latent variable\n",
    "  sv = lv.copy() # latent variable\n",
    "  left = lv.copy()\n",
    "  right = lv.copy()\n",
    "\n",
    "  z_value = np.random.choice([-1,1], N**2)\n",
    "  z_new = z_value.copy()\n",
    "  z_binary = z_value.copy()\n",
    "\n",
    "  for i in range(ts):\n",
    "    spin_tmp = s_array.copy()\n",
    "    # calculate likelihood\n",
    "    w = np.log(np.random.rand()) - bt * energy_calc(spin_tmp, up_array, down_array, left_array, right_array)\n",
    "    lv = z_value - sv/2 + np.random.rand(N**2) * sv\n",
    "    sv = 2 * abs(lv-z_value) + 10 * np.random.exponential(1, N**2)\n",
    "    left = np.maximum(-2, lv - sv/2)\n",
    "    right = np.minimum(2, lv + sv/2)\n",
    "    \n",
    "    tmp = 0\n",
    "    while tmp == 0:\n",
    "      z_new = left + np.random.rand(N**2) * (right-left)\n",
    "      z_binary = np.array([1 if z_new[i] > 0 else -1 for i in range(N**2)])\n",
    "      spin_tmp = np.reshape(z_binary, (N, N))\n",
    "\n",
    "      w_tmp = - bt * energy_calc(spin_tmp, up_array, down_array, left_array, right_array)\n",
    "      if w_tmp > w:\n",
    "        z_value = z_new\n",
    "        s_array = spin_tmp.copy()\n",
    "        Energy_LSS[i] = energy_calc(s_array, up_array, down_array, left_array, right_array)\n",
    "        tmp = 1\n",
    "      else:\n",
    "        r = np.array([1 if z_new[i] < z_value[i] else 0 for i in range(N**2)])\n",
    "        left = r * np.maximum(left, z_new) + (1 - r) * left\n",
    "        right = (1 - r) * np.minimum(right, z_new) + r * right   \n",
    "    if i % 100 == 0:\n",
    "      print(i)"
   ]
  },
  {
   "cell_type": "code",
   "execution_count": 22,
   "metadata": {},
   "outputs": [
    {
     "name": "stdout",
     "output_type": "stream",
     "text": [
      "0\n",
      "100\n",
      "200\n",
      "300\n",
      "400\n",
      "500\n",
      "600\n",
      "700\n",
      "800\n",
      "900\n",
      "1000\n",
      "1100\n",
      "1200\n",
      "1300\n",
      "1400\n",
      "1500\n",
      "1600\n",
      "1700\n",
      "1800\n",
      "1900\n",
      "-526.0\n"
     ]
    }
   ],
   "source": [
    "beta = 1\n",
    "spins = spins_initial.copy()\n",
    "latent_slice_sampler(beta, time_steps, spins, up, down, left, right)\n",
    "print(Energy_LSS.min())"
   ]
  },
  {
   "cell_type": "code",
   "execution_count": 23,
   "metadata": {},
   "outputs": [
    {
     "data": {
      "text/plain": [
       "-1200.0"
      ]
     },
     "execution_count": 23,
     "metadata": {},
     "output_type": "execute_result"
    }
   ],
   "source": [
    "energy_calc(np.ones((N, N)), up, down, left, right)"
   ]
  },
  {
   "cell_type": "code",
   "execution_count": 24,
   "metadata": {},
   "outputs": [
    {
     "data": {
      "image/png": "[encoded data removed]",
      "text/plain": [
       "<Figure size 432x288 with 1 Axes>"
      ]
     },
     "metadata": {
      "needs_background": "light"
     },
     "output_type": "display_data"
    }
   ],
   "source": [
    "plt.plot(Energy_LSS)\n",
    "plt.xlabel('Time Step')\n",
    "plt.ylabel('Energy')\n",
    "plt.title('Latent Slice Sampling (T = 1)')\n",
    "plt.show()"
   ]
  },
  {
   "cell_type": "code",
   "execution_count": 15,
   "metadata": {},
   "outputs": [
    {
     "name": "stdout",
     "output_type": "stream",
     "text": [
      "0\n",
      "100\n",
      "200\n",
      "300\n",
      "400\n",
      "500\n",
      "600\n",
      "700\n",
      "800\n",
      "900\n",
      "-348.0\n"
     ]
    }
   ],
   "source": [
    "beta = 1/5\n",
    "spins = spins_initial.copy()\n",
    "latent_slice_sampler(beta, time_steps, spins, up, down, left, right)\n",
    "print(Energy_LSS.min())"
   ]
  },
  {
   "cell_type": "code",
   "execution_count": 16,
   "metadata": {},
   "outputs": [
    {
     "data": {
      "image/png": "[encoded data removed]",
      "text/plain": [
       "<Figure size 432x288 with 1 Axes>"
      ]
     },
     "metadata": {
      "needs_background": "light"
     },
     "output_type": "display_data"
    }
   ],
   "source": [
    "plt.plot(Energy_LSS)\n",
    "plt.xlabel('Time Step')\n",
    "plt.ylabel('Energy')\n",
    "plt.title('Latent Slice Sampling (T = 5)')\n",
    "plt.show()"
   ]
  },
  {
   "cell_type": "code",
   "execution_count": null,
   "metadata": {},
   "outputs": [],
   "source": []
  }
 ],
 "metadata": {
  "interpreter": {
   "hash": "6324852a3b55d4c10b51558e464eaced0987ede6d989e69adefe3679d0a6adaa"
  },
  "kernelspec": {
   "display_name": "Python 3",
   "language": "python",
   "name": "python3"
  },
  "language_info": {
   "codemirror_mode": {
    "name": "ipython",
    "version": 3
   },
   "file_extension": ".py",
   "mimetype": "text/x-python",
   "name": "python",
   "nbconvert_exporter": "python",
   "pygments_lexer": "ipython3",
   "version": "3.8.5"
  }
 },
 "nbformat": 4,
 "nbformat_minor": 4
}
