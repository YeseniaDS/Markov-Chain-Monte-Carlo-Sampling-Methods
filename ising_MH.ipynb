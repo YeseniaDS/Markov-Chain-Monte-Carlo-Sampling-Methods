{
 "cells": [
  {
   "cell_type": "markdown",
   "metadata": {},
   "source": [
    "- An implementation of an Ising spin-glass of size NxN\n",
    "- With fixed boundary conditions using Metropolis-Hastings\n",
    "- Connectivity is initialized as a Gaussian distribution N(0, s^2/N)\n",
    "- Updates occur at randomly selected sites"
   ]
  },
  {
   "cell_type": "code",
   "execution_count": 7,
   "metadata": {},
   "outputs": [],
   "source": [
    "import numpy as np\n",
    "import matplotlib.pyplot as plt"
   ]
  },
  {
   "cell_type": "code",
   "execution_count": 8,
   "metadata": {},
   "outputs": [],
   "source": [
    "# Define proposal step\n",
    "def proposal(s_array):\n",
    "    _N = s_array.shape[0]\n",
    "    return np.random.choice(_N, 2)\n",
    "\n",
    "# Define energy difference adter flipping one randomly chosen site   \n",
    "def energy_change(spin_site, s_array, up_array, down_array, left_array, right_array):\n",
    "    i = spin_site[0]\n",
    "    j = spin_site[1]\n",
    "    \n",
    "    if i == 0:\n",
    "        up_nbr = 0\n",
    "        down_nbr = s_array[i+1,j]\n",
    "    elif i == N-1:\n",
    "        up_nbr = s_array[i-1,j]\n",
    "        down_nbr = 0\n",
    "    else:\n",
    "        up_nbr = s_array[i-1,j]\n",
    "        down_nbr = s_array[i+1,j]\n",
    "    if j == 0:\n",
    "        left_nbr = 0\n",
    "        right_nbr = s_array[i,j+1]\n",
    "    elif j == N-1:\n",
    "        left_nbr = s_array[i,j-1]\n",
    "        right_nbr = 0\n",
    "    else:\n",
    "        left_nbr = s_array[i,j-1]\n",
    "        right_nbr = s_array[i,j+1]\n",
    "\n",
    "    up_mult = up_array[i,j] * up_nbr\n",
    "    down_mult = down_array[i,j] * down_nbr\n",
    "    left_mult = left_array[i,j] * left_nbr\n",
    "    right_mult = right_array[i,j] * right_nbr\n",
    "    \n",
    "    dE_tmp = 2 * s_array[i,j] * (up_mult + down_mult + left_mult + right_mult)\n",
    "    return dE_tmp\n",
    "\n",
    "# Define acceptance probability\n",
    "def acceptance(bt, energy):\n",
    "    if energy <= 0:\n",
    "        return -1\n",
    "    else:\n",
    "        prob = -bt*energy\n",
    "        if prob > np.log(np.random.random()):\n",
    "            return -1\n",
    "        else:\n",
    "            return 1\n",
    "\n",
    "# Define update step\n",
    "dE = 0\n",
    "dM = 0\n",
    "\n",
    "def update(bt, s_array, up_array, down_array, left_array, right_array):\n",
    "    global dE\n",
    "    global dM\n",
    "    \n",
    "    # Proposal Step\n",
    "    site = proposal(s_array)\n",
    "    \n",
    "    # Calculate energy and magnetism change\n",
    "    dE = energy_change(site, s_array, up_array, down_array, left_array, right_array)\n",
    "    dM = -2 * s_array[site[0],site[1]]\n",
    "    \n",
    "    # Acceptance step\n",
    "    accept = acceptance(bt, dE)\n",
    "    \n",
    "    if accept == -1:\n",
    "        s_array[site[0], site[1]] *= -1\n",
    "    else:\n",
    "        dE = 0\n",
    "        dM = 0\n",
    "    \n",
    "    return s_array"
   ]
  },
  {
   "cell_type": "code",
   "execution_count": 9,
   "metadata": {},
   "outputs": [],
   "source": [
    "def _main_loop(ts, s_array, up_array, down_array, left_array, right_array):\n",
    "    s_temp = s_array.copy()\n",
    "    for i in range(ts):\n",
    "        update_step = update(beta, s_temp, up_array, down_array, left_array, right_array)\n",
    "        s_temp = update_step\n",
    "        energy[i+1] = energy[i] + dE\n",
    "        mag[i+1] = mag[i] + dM"
   ]
  },
  {
   "cell_type": "code",
   "execution_count": 10,
   "metadata": {},
   "outputs": [],
   "source": [
    "def _main_loop_SA(ts, bt_initial, s_array, up_array, down_array, left_array, right_array):\n",
    "    s_temp = s_array.copy()\n",
    "    bt_live = bt_initial\n",
    "    for i in range(ts):\n",
    "        if i % 50 == 0:\n",
    "            bt_live /= 0.9\n",
    "        update_step = update(bt_live, s_temp, up_array, down_array, left_array, right_array)\n",
    "        s_temp = update_step\n",
    "        energy[i+1] = energy[i] + dE\n",
    "        mag[i+1] = mag[i] + dM"
   ]
  },
  {
   "cell_type": "code",
   "execution_count": 11,
   "metadata": {},
   "outputs": [],
   "source": [
    "# Set size of model N and initial spins\n",
    "np.random.seed(1234)\n",
    "N = 25\n",
    "spins = np.random.choice([-1.0, 1.0], (N,N))\n",
    "\n",
    "# Initialize interaction arrays: there are four arrays - up, down, left, right neighbours of a site\n",
    "up, down, left, right = np.zeros((N, N)), np.zeros((N, N)), np.zeros((N, N)), np.zeros((N, N))\n",
    "\n",
    "# Use J = 1 so graphs are easier to generate\n",
    "up[1:N, :] = 1\n",
    "down[0:N-1, :] = up[1:N, :]\n",
    "left[:, 1:N] = 1\n",
    "right[:, 0:N-1] = left[:, 1:N]"
   ]
  },
  {
   "cell_type": "code",
   "execution_count": 12,
   "metadata": {},
   "outputs": [
    {
     "name": "stdout",
     "output_type": "stream",
     "text": [
      "-1002.0\n"
     ]
    },
    {
     "data": {
      "image/png": "[encoded data removed]",
      "text/plain": [
       "<Figure size 432x288 with 1 Axes>"
      ]
     },
     "metadata": {
      "needs_background": "light"
     },
     "output_type": "display_data"
    }
   ],
   "source": [
    "#### Run Main Loop\n",
    "\n",
    "# Fix number of timesteps and some containers\n",
    "timesteps = 10000\n",
    "mag = np.zeros(timesteps+1)\n",
    "energy = np.zeros(timesteps+1)\n",
    "\n",
    "# Fix beta (inverse temerature) - from analysis we know that system in glassy-phase for T<s so beta>1/s. \n",
    "# Performance of random updates isn't good so don't select temperature too low\n",
    "Tc = 2/(np.log(1 + np.sqrt(2)))\n",
    "beta = 1\n",
    "\n",
    "_main_loop(timesteps, spins, up, down, left, right)\n",
    "print(energy.min())\n",
    "# plot magnetism and energy evolving in time\n",
    "plt.rcParams[\"figure.figsize\"] = (6,4)\n",
    "plt.plot(energy[1:])\n",
    "plt.xlabel('Time Step')\n",
    "plt.ylabel('Energy')\n",
    "plt.title('Metropolis-Hasting Algorithm (T = 1)')\n",
    "plt.show()"
   ]
  },
  {
   "cell_type": "code",
   "execution_count": 13,
   "metadata": {},
   "outputs": [
    {
     "data": {
      "text/plain": [
       "array([-994., -994., -994., -994., -994., -994., -992., -992., -992.,\n",
       "       -992., -992., -992., -992., -992., -992., -992., -992., -992.,\n",
       "       -992., -992.])"
      ]
     },
     "execution_count": 13,
     "metadata": {},
     "output_type": "execute_result"
    }
   ],
   "source": [
    "energy[-20:]"
   ]
  },
  {
   "cell_type": "markdown",
   "metadata": {},
   "source": [
    "## End"
   ]
  },
  {
   "cell_type": "code",
   "execution_count": 14,
   "metadata": {},
   "outputs": [
    {
     "name": "stdout",
     "output_type": "stream",
     "text": [
      "-1066.0\n"
     ]
    },
    {
     "data": {
      "image/png": "[encoded data removed]",
      "text/plain": [
       "<Figure size 432x288 with 1 Axes>"
      ]
     },
     "metadata": {
      "needs_background": "light"
     },
     "output_type": "display_data"
    }
   ],
   "source": [
    "#### Run Main Loop\n",
    "\n",
    "# Fix beta (inverse temerature) - from analysis we know that system in glassy-phase for T<s so beta>1/s. \n",
    "# Performance of random updates isn't good so don't select temperature too low\n",
    "Tc = 2/(np.log(1 + np.sqrt(2)))\n",
    "beta = 1/5\n",
    "\n",
    "# Fix number of timesteps and some containers\n",
    "timesteps = 20000\n",
    "mag = np.zeros(timesteps+1)\n",
    "energy = np.zeros(timesteps+1)\n",
    "\n",
    "_main_loop_SA(timesteps, beta, spins, up, down, left, right)\n",
    "print(energy.min())\n",
    "# plot energy evolving in time\n",
    "plt.plot(energy[1:])\n",
    "plt.xlabel('Time Step')\n",
    "plt.ylabel('Energy')\n",
    "plt.title('Metropolis-Hasting Algorithm with Simulated Annealing')\n",
    "plt.show()"
   ]
  },
  {
   "cell_type": "code",
   "execution_count": 15,
   "metadata": {},
   "outputs": [
    {
     "data": {
      "text/plain": [
       "array([-1066., -1066., -1066., -1066., -1066., -1066., -1066., -1066.,\n",
       "       -1066., -1066., -1066., -1066., -1066., -1066., -1066., -1066.,\n",
       "       -1066., -1066., -1066., -1066.])"
      ]
     },
     "execution_count": 15,
     "metadata": {},
     "output_type": "execute_result"
    }
   ],
   "source": [
    "energy[-20:]"
   ]
  },
  {
   "cell_type": "markdown",
   "metadata": {},
   "source": [
    "## End"
   ]
  },
  {
   "cell_type": "code",
   "execution_count": null,
   "metadata": {},
   "outputs": [],
   "source": [
    "# Initialize random interaction arrays: up, down, left right\n",
    "# These represent the interaction strengths to the up/down/left/right neighbours of a site\n",
    "# There is a symmetry between these matrices\n",
    "s_h = 1\n",
    "s_v = 1\n",
    "up = np.zeros((N,N))\n",
    "down = np.zeros((N,N))\n",
    "left = np.zeros((N,N))\n",
    "right = np.zeros((N,N))\n",
    "\n",
    "up[1:N,:] = np.random.rand(N-1,N) * s_v\n",
    "down[0:N-1,:] = up[1:N,:]\n",
    "left[:,1:N] = np.random.rand(N,N-1) * s_h\n",
    "right[:,0:N-1] = left[:,1:N]"
   ]
  }
 ],
 "metadata": {
  "kernelspec": {
   "display_name": "Python 3",
   "language": "python",
   "name": "python3"
  },
  "language_info": {
   "codemirror_mode": {
    "name": "ipython",
    "version": 3
   },
   "file_extension": ".py",
   "mimetype": "text/x-python",
   "name": "python",
   "nbconvert_exporter": "python",
   "pygments_lexer": "ipython3",
   "version": "3.8.5"
  }
 },
 "nbformat": 4,
 "nbformat_minor": 4
}
